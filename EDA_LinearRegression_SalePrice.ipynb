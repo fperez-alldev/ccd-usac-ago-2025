{
 "cells": [
  {
   "cell_type": "markdown",
   "id": "c2be891b",
   "metadata": {},
   "source": [
    "# EDA y Feature Engineering para predecir **SalePrice** (Ames Housing)\n",
    "_Generado automáticamente el 2025-09-03 20:00:49_\n",
    "\n",
    "\n",
    "Este notebook realiza:\n",
    "1) Carga de datos y verificación básica  \n",
    "2) Análisis exploratorio (distribuciones, valores faltantes, correlaciones)  \n",
    "3) Ingeniería de características basada en sentido común del dominio  \n",
    "4) Preparación de **pipelines** con `ColumnTransformer`  \n",
    "5) Entrenamiento y evaluación de un modelo de **Regresión Lineal** (y variantes Ridge/Lasso opcionales)\n",
    "\n",
    "**Archivos esperados** (en el mismo entorno):\n",
    "- `/mnt/data/train.csv` — dataset de entrenamiento\n",
    "- `/mnt/data/data_description.txt` — diccionario de variables (opcional para consulta)\n",
    "\n",
    "> Nota: evita fijar estilos o colores en los gráficos para mantener consistencia con las directrices de visualización.\n"
   ]
  },
  {
   "cell_type": "markdown",
   "id": "1efe7791",
   "metadata": {},
   "source": [
    "## 1) Setup y carga de datos"
   ]
  },
  {
   "cell_type": "code",
   "execution_count": null,
   "id": "022ac54a",
   "metadata": {},
   "outputs": [],
   "source": [
    "\n",
    "import os\n",
    "import warnings\n",
    "warnings.filterwarnings('ignore')\n",
    "\n",
    "import pandas as pd\n",
    "import numpy as np\n",
    "import matplotlib.pyplot as plt\n",
    "\n",
    "from sklearn.model_selection import train_test_split, cross_val_score, KFold\n",
    "from sklearn.compose import ColumnTransformer\n",
    "from sklearn.preprocessing import OneHotEncoder, StandardScaler\n",
    "from sklearn.impute import SimpleImputer\n",
    "from sklearn.pipeline import Pipeline\n",
    "from sklearn.linear_model import LinearRegression, Ridge, Lasso\n",
    "from sklearn.metrics import mean_squared_error, r2_score\n",
    "\n",
    "DATA_PATH = \"/mnt/data/train.csv\"\n",
    "DESC_PATH = \"/mnt/data/data_description.txt\"\n",
    "\n",
    "assert os.path.exists(DATA_PATH), f\"No se encontró el archivo en {DATA_PATH}\"\n",
    "df = pd.read_csv(DATA_PATH)\n",
    "\n",
    "print(df.shape)\n",
    "df.head()\n"
   ]
  },
  {
   "cell_type": "markdown",
   "id": "13428912",
   "metadata": {},
   "source": [
    "## 2) Inspección rápida"
   ]
  },
  {
   "cell_type": "code",
   "execution_count": null,
   "id": "7dc3ae28",
   "metadata": {},
   "outputs": [],
   "source": [
    "\n",
    "display(df.info())\n",
    "display(df.describe(include='all').T.head(30))\n",
    "\n",
    "# Valores faltantes\n",
    "na = df.isna().sum().sort_values(ascending=False)\n",
    "na = na[na>0]\n",
    "na.to_frame(\"missing_count\").head(20)\n"
   ]
  },
  {
   "cell_type": "markdown",
   "id": "4efb3b05",
   "metadata": {},
   "source": [
    "## 3) Target: distribución de `SalePrice` y log-transform"
   ]
  },
  {
   "cell_type": "code",
   "execution_count": null,
   "id": "fe340bd2",
   "metadata": {},
   "outputs": [],
   "source": [
    "\n",
    "fig = plt.figure()\n",
    "df['SalePrice'].hist(bins=40)\n",
    "plt.title(\"Distribución de SalePrice\")\n",
    "plt.xlabel(\"SalePrice\")\n",
    "plt.ylabel(\"Frecuencia\")\n",
    "plt.show()\n",
    "\n",
    "df['LogSalePrice'] = np.log1p(df['SalePrice'])\n",
    "\n",
    "fig = plt.figure()\n",
    "df['LogSalePrice'].hist(bins=40)\n",
    "plt.title(\"Distribución de Log(SalePrice+1)\")\n",
    "plt.xlabel(\"LogSalePrice\")\n",
    "plt.ylabel(\"Frecuencia\")\n",
    "plt.show()\n",
    "\n",
    "df[['SalePrice','LogSalePrice']].describe().T\n"
   ]
  },
  {
   "cell_type": "markdown",
   "id": "658eee54",
   "metadata": {},
   "source": [
    "## 4) Correlaciones numéricas con `SalePrice`"
   ]
  },
  {
   "cell_type": "code",
   "execution_count": null,
   "id": "3e26522c",
   "metadata": {},
   "outputs": [],
   "source": [
    "\n",
    "num_cols = df.select_dtypes(include=[np.number]).columns.tolist()\n",
    "corr = df[num_cols].corr(numeric_only=True)['SalePrice'].sort_values(ascending=False)\n",
    "corr.head(20)\n"
   ]
  },
  {
   "cell_type": "markdown",
   "id": "ce71ad3e",
   "metadata": {},
   "source": [
    "## 5) Limpieza básica y mapeos de categorías ordinales"
   ]
  },
  {
   "cell_type": "code",
   "execution_count": null,
   "id": "b3a10347",
   "metadata": {},
   "outputs": [],
   "source": [
    "\n",
    "df_clean = df.copy()\n",
    "\n",
    "# Variables con 'NA' que significa 'sin' (no es missing real) — establecer a 'None' antes de imputación\n",
    "none_cats = ['Alley','BsmtQual','BsmtCond','BsmtExposure','BsmtFinType1','BsmtFinType2',\n",
    "             'FireplaceQu','GarageType','GarageFinish','GarageQual','GarageCond','PoolQC','Fence','MiscFeature']\n",
    "for c in none_cats:\n",
    "    if c in df_clean.columns:\n",
    "        df_clean[c] = df_clean[c].fillna('None')\n",
    "\n",
    "# Mapas ordinales de calidad (Ex > Gd > TA > Fa > Po)\n",
    "qual_map = {'Ex':5, 'Gd':4, 'TA':3, 'Fa':2, 'Po':1, 'None':0}\n",
    "for c in ['ExterQual','ExterCond','BsmtQual','BsmtCond','HeatingQC','KitchenQual','FireplaceQu','GarageQual','GarageCond','PoolQC']:\n",
    "    if c in df_clean.columns:\n",
    "        df_clean[c] = df_clean[c].map(qual_map).fillna(0).astype(int)\n",
    "\n",
    "# 'BsmtExposure' tiene categorías cualitativas: Gd > Av > Mn > No > None\n",
    "exp_map = {'Gd':3,'Av':2,'Mn':1,'No':0,'None':0}\n",
    "if 'BsmtExposure' in df_clean.columns:\n",
    "    df_clean['BsmtExposure'] = df_clean['BsmtExposure'].map(exp_map).fillna(0).astype(int)\n",
    "\n",
    "# 'Functional' (mejor = Typ)\n",
    "func_map = {'Typ':6,'Min1':5,'Min2':4,'Mod':3,'Maj1':2,'Maj2':1,'Sev':0,'Sal':0}\n",
    "if 'Functional' in df_clean.columns:\n",
    "    df_clean['Functional'] = df_clean['Functional'].map(func_map).fillna(func_map['Typ']).astype(int)\n",
    "\n",
    "df_clean.head()\n"
   ]
  },
  {
   "cell_type": "markdown",
   "id": "6411c5c4",
   "metadata": {},
   "source": [
    "## 6) Feature engineering"
   ]
  },
  {
   "cell_type": "code",
   "execution_count": null,
   "id": "eae30d78",
   "metadata": {},
   "outputs": [],
   "source": [
    "\n",
    "df_fe = df_clean.copy()\n",
    "\n",
    "# Superficies\n",
    "for col in ['TotalBsmtSF','1stFlrSF','2ndFlrSF']:\n",
    "    if col not in df_fe.columns:\n",
    "        raise KeyError(f\"Falta la columna {col} para TotalSF\")\n",
    "df_fe['TotalSF'] = df_fe['TotalBsmtSF'] + df_fe['1stFlrSF'] + df_fe['2ndFlrSF']\n",
    "\n",
    "# Baños totales (ponderación estándar: 0.5 para medios baños)\n",
    "df_fe['TotalBath'] = (\n",
    "    df_fe.get('FullBath',0) + 0.5*df_fe.get('HalfBath',0) +\n",
    "    df_fe.get('BsmtFullBath',0) + 0.5*df_fe.get('BsmtHalfBath',0)\n",
    ")\n",
    "\n",
    "# Edades relativas al año de venta\n",
    "if {'YrSold','YearBuilt'}.issubset(df_fe.columns):\n",
    "    df_fe['HouseAge'] = df_fe['YrSold'] - df_fe['YearBuilt']\n",
    "if {'YrSold','YearRemodAdd'}.issubset(df_fe.columns):\n",
    "    df_fe['SinceRemodel'] = df_fe['YrSold'] - df_fe['YearRemodAdd']\n",
    "if {'YrSold','GarageYrBlt'}.issubset(df_fe.columns):\n",
    "    df_fe['GarageAge'] = np.where(df_fe['GarageYrBlt'].isna(), np.nan, df_fe['YrSold'] - df_fe['GarageYrBlt'])\n",
    "\n",
    "# Indicadores binarios de presencia\n",
    "df_fe['HasPool'] = (df_fe.get('PoolArea',0) > 0).astype(int)\n",
    "df_fe['HasGarage'] = (~df_fe.get('GarageType',\"None\").isin(['None', np.nan])).astype(int) if 'GarageType' in df_fe.columns else 0\n",
    "df_fe['HasFireplace'] = (df_fe.get('Fireplaces',0) > 0).astype(int)\n",
    "df_fe['HasPorch'] = ((df_fe.get('OpenPorchSF',0)+df_fe.get('EnclosedPorch',0)+df_fe.get('3SsnPorch',0)+df_fe.get('ScreenPorch',0)) > 0).astype(int)\n",
    "\n",
    "# Target log\n",
    "df_fe['LogSalePrice'] = np.log1p(df_fe['SalePrice'])\n",
    "\n",
    "df_fe[['SalePrice','LogSalePrice','TotalSF','TotalBath','HouseAge','SinceRemodel','GarageAge','HasPool','HasGarage','HasFireplace','HasPorch']].head()\n"
   ]
  },
  {
   "cell_type": "markdown",
   "id": "8cdde511",
   "metadata": {},
   "source": [
    "## 7) Separación de variables y columnas por tipo"
   ]
  },
  {
   "cell_type": "code",
   "execution_count": null,
   "id": "e2f99804",
   "metadata": {},
   "outputs": [],
   "source": [
    "\n",
    "target = 'SalePrice'  # también se usará LogSalePrice para el modelo\n",
    "y = df_fe['LogSalePrice']  # mejor comportamiento lineal\n",
    "\n",
    "# Selección de características: usa todo excepto identificadores/target\n",
    "drop_cols = ['Id','SalePrice','LogSalePrice']\n",
    "X = df_fe.drop(columns=[c for c in drop_cols if c in df_fe.columns])\n",
    "\n",
    "num_features = X.select_dtypes(include=[np.number]).columns.tolist()\n",
    "cat_features = X.select_dtypes(exclude=[np.number]).columns.tolist()\n",
    "\n",
    "len(num_features), len(cat_features), num_features[:5], cat_features[:5]\n"
   ]
  },
  {
   "cell_type": "markdown",
   "id": "8c0195ab",
   "metadata": {},
   "source": [
    "## 8) Pipeline de preprocesamiento y modelos"
   ]
  },
  {
   "cell_type": "code",
   "execution_count": null,
   "id": "ab97d7b4",
   "metadata": {},
   "outputs": [],
   "source": [
    "\n",
    "numeric_transformer = Pipeline(steps=[\n",
    "    (\"imputer\", SimpleImputer(strategy=\"median\")),\n",
    "    (\"scaler\", StandardScaler(with_mean=True, with_std=True))\n",
    "])\n",
    "\n",
    "categorical_transformer = Pipeline(steps=[\n",
    "    (\"imputer\", SimpleImputer(strategy=\"most_frequent\")),\n",
    "    (\"onehot\", OneHotEncoder(handle_unknown=\"ignore\", sparse_output=False))\n",
    "])\n",
    "\n",
    "preprocess = ColumnTransformer(\n",
    "    transformers=[\n",
    "        (\"num\", numeric_transformer, num_features),\n",
    "        (\"cat\", categorical_transformer, cat_features),\n",
    "    ]\n",
    ")\n",
    "\n",
    "models = {\n",
    "    \"Linear\": LinearRegression(),\n",
    "    \"Ridge(alpha=10)\": Ridge(alpha=10.0, random_state=42),\n",
    "    \"Lasso(alpha=0.001)\": Lasso(alpha=0.001, random_state=42, max_iter=10000),\n",
    "}\n",
    "\n",
    "results = {}\n",
    "kf = KFold(n_splits=5, shuffle=True, random_state=42)\n",
    "\n",
    "for name, model in models.items():\n",
    "    pipe = Pipeline(steps=[(\"preprocess\", preprocess), (\"model\", model)])\n",
    "    # scoring: RMSE sobre SalePrice logarítmico\n",
    "    neg_rmse = cross_val_score(pipe, X, y, scoring=\"neg_root_mean_squared_error\", cv=kf)\n",
    "    results[name] = {\n",
    "        \"RMSE_log_mean\": -neg_rmse.mean(),\n",
    "        \"RMSE_log_std\":  neg_rmse.std()\n",
    "    }\n",
    "\n",
    "pd.DataFrame(results).T.sort_values(\"RMSE_log_mean\")\n"
   ]
  },
  {
   "cell_type": "markdown",
   "id": "9ad68b12",
   "metadata": {},
   "source": [
    "## 9) Entrenamiento final y coeficientes del modelo lineal"
   ]
  },
  {
   "cell_type": "code",
   "execution_count": null,
   "id": "1e65dc81",
   "metadata": {},
   "outputs": [],
   "source": [
    "\n",
    "pipe_lin = Pipeline(steps=[(\"preprocess\", preprocess), (\"model\", LinearRegression())])\n",
    "X_train, X_valid, y_train, y_valid = train_test_split(X, y, test_size=0.2, random_state=42)\n",
    "\n",
    "pipe_lin.fit(X_train, y_train)\n",
    "preds = pipe_lin.predict(X_valid)\n",
    "\n",
    "rmse = mean_squared_error(y_valid, preds, squared=False)\n",
    "r2 = r2_score(y_valid, preds)\n",
    "\n",
    "print(f\"Valid RMSE (log): {rmse:.4f}\")\n",
    "print(f\"Valid R^2     : {r2:.4f}\")\n",
    "\n",
    "# Extraer nombres de características después del one-hot\n",
    "feature_names_num = num_features\n",
    "feature_names_cat = list(pipe_lin.named_steps['preprocess']\\\n",
    "                         .named_transformers_['cat']\\\n",
    "                         .named_steps['onehot']\\\n",
    "                         .get_feature_names_out(cat_features))\n",
    "feature_names = feature_names_num + feature_names_cat\n",
    "\n",
    "coefs = pipe_lin.named_steps['model'].coef_\n",
    "coef_df = pd.DataFrame({\"feature\": feature_names, \"coef\": coefs}).sort_values(\"coef\", ascending=False)\n",
    "coef_df.head(20)\n"
   ]
  },
  {
   "cell_type": "markdown",
   "id": "e6643e6b",
   "metadata": {},
   "source": [
    "## 10) (Opcional) Guardar artefactos"
   ]
  },
  {
   "cell_type": "code",
   "execution_count": null,
   "id": "bfb4d5b9",
   "metadata": {},
   "outputs": [],
   "source": [
    "\n",
    "# Guardar dataset enriquecido y coeficientes, si se desea\n",
    "df_fe.to_csv(\"/mnt/data/train_fe.csv\", index=False)\n",
    "coef_df.to_csv(\"/mnt/data/linear_model_coefs.csv\", index=False)\n",
    "print(\"Guardados: /mnt/data/train_fe.csv y /mnt/data/linear_model_coefs.csv\")\n"
   ]
  },
  {
   "cell_type": "markdown",
   "id": "af964273",
   "metadata": {},
   "source": [
    "## Apéndice: Diccionario de variables (opcional)"
   ]
  },
  {
   "cell_type": "code",
   "execution_count": null,
   "id": "76b7dc36",
   "metadata": {},
   "outputs": [],
   "source": [
    "\n",
    "if os.path.exists(DESC_PATH):\n",
    "    with open(DESC_PATH, 'r', encoding='utf-8', errors='ignore') as f:\n",
    "        text = f.read()\n",
    "    print(text[:2000] + \"\\n...\\n[Truncado]\")\n",
    "else:\n",
    "    print(\"No se encontró data_description.txt\")\n"
   ]
  }
 ],
 "metadata": {
  "kernelspec": {
   "display_name": "ds-club",
   "language": "python",
   "name": "python3"
  },
  "language_info": {
   "name": "python",
   "version": "3.12.3"
  }
 },
 "nbformat": 4,
 "nbformat_minor": 5
}
