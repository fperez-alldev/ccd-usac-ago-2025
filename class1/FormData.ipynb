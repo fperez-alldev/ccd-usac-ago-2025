{
 "cells": [
  {
   "cell_type": "markdown",
   "metadata": {
    "id": "hpfUCIz1URKZ"
   },
   "source": [
    "# Analizar Datos de Formulario"
   ]
  },
  {
   "cell_type": "code",
   "execution_count": null,
   "metadata": {
    "colab": {
     "base_uri": "https://localhost:8080/"
    },
    "executionInfo": {
     "elapsed": 43967,
     "status": "ok",
     "timestamp": 1755733623343,
     "user": {
      "displayName": "Victor Hugo Borrayo Herrera",
      "userId": "06436941793800522113"
     },
     "user_tz": 360
    },
    "id": "okys7WNbWEje",
    "outputId": "28193eda-2efd-45d9-9804-46f7f1f30b1d"
   },
   "outputs": [],
   "source": [
    "# PARA GOOGLE COLAB\n",
    "#!pip -q install gspread\n",
    "#!pip install rapidfuzz\n",
    "#!pip install autocorrect\n",
    "#!pip install unidecode\n",
    "#!pip install pyspellchecker==0.7.2\n",
    "#!pip install nltk\n",
    "#!pip install wordcloud"
   ]
  },
  {
   "cell_type": "code",
   "execution_count": null,
   "metadata": {
    "id": "d23PTCL0T9NN"
   },
   "outputs": [],
   "source": [
    "# PARA GOOGLE COLAB\n",
    "#import pandas as pd\n",
    "#from google.colab import auth\n",
    "#import google.auth\n",
    "#import gspread\n",
    "#import pandas as pd\n",
    "#from rapidfuzz import process\n",
    "#import matplotlib.pyplot as plt"
   ]
  },
  {
   "cell_type": "code",
   "execution_count": null,
   "metadata": {},
   "outputs": [],
   "source": [
    "# PARA ENTORNO LOCAL\n",
    "import pandas as pd\n",
    "from rapidfuzz import process\n",
    "import matplotlib.pyplot as plt"
   ]
  },
  {
   "cell_type": "code",
   "execution_count": null,
   "metadata": {
    "colab": {
     "base_uri": "https://localhost:8080/",
     "height": 501
    },
    "executionInfo": {
     "elapsed": 1270,
     "status": "ok",
     "timestamp": 1755733655134,
     "user": {
      "displayName": "Victor Hugo Borrayo Herrera",
      "userId": "06436941793800522113"
     },
     "user_tz": 360
    },
    "id": "IBq9kLbJVT2p",
    "outputId": "cf3a9f4d-21d0-4eba-cb58-8dd9cdea5682"
   },
   "outputs": [],
   "source": [
    "# PARA GOOGLE COLAB\n",
    "# Autenticarse y leer Google Sheets con gspread\n",
    "#auth.authenticate_user()\n",
    "\n",
    "#creds, _ = google.auth.default()\n",
    "#gc = gspread.authorize(creds)\n",
    "\n",
    "# Form de respuestas\n",
    "#SPREADSHEET_URL = \"https://docs.google.com/spreadsheets/d/URL_PROPIO/edit?usp=drive_link\"\n",
    "\n",
    "# Enlazando con spreadsheet\n",
    "#sh = gc.open_by_url(SPREADSHEET_URL)\n",
    "#ws = sh.sheet1\n",
    "\n",
    "# Leyendo datos\n",
    "#df = pd.DataFrame(ws.get_all_records())\n",
    "\n",
    "# Eliminando columnas con información sensible\n",
    "#df.drop(columns=[\"Dirección de correo electrónico\", \"Nombre completo\"], inplace=True)\n",
    "\n",
    "# FIN PARA GOOGLE COLAB\n",
    "\n",
    "# Nombres\n",
    "\n",
    "df = pd.read_excel(\"../data/C1S1-Form.xlsx\")\n",
    "\n",
    "df.head()"
   ]
  },
  {
   "cell_type": "code",
   "execution_count": null,
   "metadata": {
    "colab": {
     "base_uri": "https://localhost:8080/",
     "height": 206
    },
    "executionInfo": {
     "elapsed": 32,
     "status": "ok",
     "timestamp": 1755733725109,
     "user": {
      "displayName": "Victor Hugo Borrayo Herrera",
      "userId": "06436941793800522113"
     },
     "user_tz": 360
    },
    "id": "e6JfjygBFuwd",
    "outputId": "50006721-868f-41ec-edcc-de88d88f94d9"
   },
   "outputs": [],
   "source": [
    "#Renombrando columnas\n",
    "rename_dic = {\n",
    "    \"Marca temporal\": \"Timestamp\",\n",
    "    \"¿Qué carrera estudias?\": \"Carrera\",\n",
    "    \"¿En qué año entraste a la universidad?\": \"Carnet\",\n",
    "    \"¿En qué semestre de tu carrera te encuentras?\": \"Semestre\",\n",
    "    \"¿Tienes intención de obtener el diploma de participación en el primer curso impartido por el club? (Requiere la asistencia a un mínimo de 4 sesiones así como la presentación final de un mini proyecto.)\": \"Diploma\",\n",
    "    \"¿Tienes conocimiento previo sobre programación?\" : \"C-Programación\",\n",
    "    \"¿Tienes conocimiento previo sobre ciencia o ingeniería de datos?\": \"C-DSE\",\n",
    "    \"¿Cuáles son tus motivaciones para querer participar del Club de Ciencia de Datos e Ingeniería de Datos?\": \"Motivación\"\n",
    "}\n",
    "\n",
    "df = df.rename(columns=rename_dic)\n",
    "df.head()\n"
   ]
  },
  {
   "cell_type": "markdown",
   "metadata": {
    "id": "bM7Zuq1QFrFf"
   },
   "source": [
    "## Estandarizando Carrera"
   ]
  },
  {
   "cell_type": "code",
   "execution_count": null,
   "metadata": {
    "colab": {
     "base_uri": "https://localhost:8080/",
     "height": 206
    },
    "executionInfo": {
     "elapsed": 58,
     "status": "ok",
     "timestamp": 1755730901835,
     "user": {
      "displayName": "Victor Hugo Borrayo Herrera",
      "userId": "06436941793800522113"
     },
     "user_tz": 360
    },
    "id": "CCvWJ6lbFqnz",
    "outputId": "2423b42e-c226-4d31-c23f-25ad5ebc157a"
   },
   "outputs": [],
   "source": [
    "# Todo en minúsculas\n",
    "df['Carrera'] = df['Carrera'].str.lower()\n",
    "#df['Carrera'] = df['Carrera'].apply(lambda x: x.lower())\n",
    "\n",
    "# Removiendo palabras inecesarias\n",
    "to_remove = [\"ingeniería\",\"ingenieria\",\"ing.\", \".\", \"en\"]\n",
    "\n",
    "def remove_words(text, words):\n",
    "    for word in words:\n",
    "        text = text.replace(word, \"\").strip()\n",
    "    return text\n",
    "\n",
    "df['Carrera'] = df['Carrera'].apply(lambda x: remove_words(x, to_remove))\n",
    "\n",
    "df.head()"
   ]
  },
  {
   "cell_type": "code",
   "execution_count": null,
   "metadata": {
    "colab": {
     "base_uri": "https://localhost:8080/"
    },
    "executionInfo": {
     "elapsed": 18,
     "status": "ok",
     "timestamp": 1755730904991,
     "user": {
      "displayName": "Victor Hugo Borrayo Herrera",
      "userId": "06436941793800522113"
     },
     "user_tz": 360
    },
    "id": "DisFXQVYXhwa",
    "outputId": "7f51116c-61e7-4475-ee19-b9e75e6afe16"
   },
   "outputs": [],
   "source": [
    "# Carreras únicas\n",
    "df['Carrera'].unique()"
   ]
  },
  {
   "cell_type": "code",
   "execution_count": null,
   "metadata": {
    "colab": {
     "base_uri": "https://localhost:8080/",
     "height": 310
    },
    "executionInfo": {
     "elapsed": 36,
     "status": "ok",
     "timestamp": 1755733899844,
     "user": {
      "displayName": "Victor Hugo Borrayo Herrera",
      "userId": "06436941793800522113"
     },
     "user_tz": 360
    },
    "id": "iUeP1dFPXjLz",
    "outputId": "a30570f9-037a-43ab-b0ff-13b6ab57db27"
   },
   "outputs": [],
   "source": [
    "# Corrigiendo carreras\n",
    "key_words = [\"industrial\", \"ciencias y sistemas\", \"química\", \"mecánica eléctrica\", \"eléctrica\", \"civil\", \"maestría\", \"electrónica\", \"mecánica industrial\", \"mecánica\", \"física\"]\n",
    "\n",
    "\n",
    "# Función para obtener la palabra más cercana\n",
    "def asignar_keyword(texto, key_words):\n",
    "    match, score, _ = process.extractOne(texto, key_words)\n",
    "    return match if score > 70 else None  # se puede ajustar el umbral\n",
    "\n",
    "\n",
    "df[\"Carrera_Ok\"] = df[\"Carrera\"].apply(lambda x: asignar_keyword(x, key_words))\n",
    "df.head()\n"
   ]
  },
  {
   "cell_type": "code",
   "execution_count": null,
   "metadata": {
    "colab": {
     "background_save": true,
     "base_uri": "https://localhost:8080/",
     "height": 407
    },
    "executionInfo": {
     "elapsed": 441,
     "status": "ok",
     "timestamp": 1755733958143,
     "user": {
      "displayName": "Victor Hugo Borrayo Herrera",
      "userId": "06436941793800522113"
     },
     "user_tz": 360
    },
    "id": "olj0CL1qXjIM",
    "outputId": "2bc8a109-2dfe-4723-ef5e-2c12eb73ace6"
   },
   "outputs": [],
   "source": [
    "# Conteo y gráfico\n",
    "ax = df[\"Carrera_Ok\"].value_counts().plot.bar(\n",
    "    figsize=(6,4),\n",
    "    color=\"#20B9DB\",   # club_lightblue\n",
    "    edgecolor=\"black\"\n",
    ")\n",
    "\n",
    "# Título y etiquetas\n",
    "plt.title(\"Distribución de Carrera_Ok\")\n",
    "plt.xlabel(\"Carrera\")\n",
    "plt.ylabel(\"Frecuencia\")\n",
    "plt.xticks(rotation=45, ha=\"right\")\n",
    "\n",
    "# Mostrar número arriba de cada barra\n",
    "for p in ax.patches:\n",
    "    ax.annotate(\n",
    "        str(p.get_height()),\n",
    "        (p.get_x() + p.get_width() / 2, p.get_height()),\n",
    "        ha=\"center\", va=\"bottom\", fontsize=9\n",
    "    )\n",
    "\n",
    "# Quitar márgenes superior y derecho\n",
    "ax.spines['right'].set_visible(False)\n",
    "ax.spines['top'].set_visible(False)\n",
    "\n",
    "plt.tight_layout()\n",
    "plt.show()"
   ]
  },
  {
   "cell_type": "markdown",
   "metadata": {
    "id": "547qHqz3ZuZK"
   },
   "source": [
    "## Analizando Lenguaje"
   ]
  },
  {
   "cell_type": "code",
   "execution_count": null,
   "metadata": {
    "executionInfo": {
     "elapsed": 50,
     "status": "ok",
     "timestamp": 1755734033237,
     "user": {
      "displayName": "Victor Hugo Borrayo Herrera",
      "userId": "06436941793800522113"
     },
     "user_tz": 360
    },
    "id": "Qxo_T5zuZy_3"
   },
   "outputs": [],
   "source": [
    "import re\n",
    "from unidecode import unidecode\n",
    "from spellchecker import SpellChecker\n",
    "from autocorrect import Speller\n",
    "import nltk\n",
    "from nltk.corpus import stopwords\n",
    "from wordcloud import WordCloud"
   ]
  },
  {
   "cell_type": "code",
   "execution_count": null,
   "metadata": {
    "colab": {
     "base_uri": "https://localhost:8080/"
    },
    "executionInfo": {
     "elapsed": 17,
     "status": "ok",
     "timestamp": 1755734036309,
     "user": {
      "displayName": "Victor Hugo Borrayo Herrera",
      "userId": "06436941793800522113"
     },
     "user_tz": 360
    },
    "id": "nY5nuu72cZGR",
    "outputId": "a0bbf520-2d23-4901-e6bd-84db39323101"
   },
   "outputs": [],
   "source": [
    "nltk.download('stopwords')"
   ]
  },
  {
   "cell_type": "code",
   "execution_count": null,
   "metadata": {
    "executionInfo": {
     "elapsed": 6,
     "status": "ok",
     "timestamp": 1755734067050,
     "user": {
      "displayName": "Victor Hugo Borrayo Herrera",
      "userId": "06436941793800522113"
     },
     "user_tz": 360
    },
    "id": "A7NM_uJvcZAI"
   },
   "outputs": [],
   "source": [
    "# Limpieza básica\n",
    "col_texto = \"Motivación\"\n",
    "df_proc = df[[col_texto]].dropna().copy()"
   ]
  },
  {
   "cell_type": "code",
   "execution_count": null,
   "metadata": {
    "executionInfo": {
     "elapsed": 5,
     "status": "ok",
     "timestamp": 1755734083464,
     "user": {
      "displayName": "Victor Hugo Borrayo Herrera",
      "userId": "06436941793800522113"
     },
     "user_tz": 360
    },
    "id": "TFYwa1nNcY9Y"
   },
   "outputs": [],
   "source": [
    "# Pasar a minúsculas\n",
    "df_proc[\"texto_lower\"] = df_proc[col_texto].astype(str).str.lower()"
   ]
  },
  {
   "cell_type": "code",
   "execution_count": null,
   "metadata": {
    "colab": {
     "base_uri": "https://localhost:8080/",
     "height": 363
    },
    "executionInfo": {
     "elapsed": 671,
     "status": "ok",
     "timestamp": 1755734092220,
     "user": {
      "displayName": "Victor Hugo Borrayo Herrera",
      "userId": "06436941793800522113"
     },
     "user_tz": 360
    },
    "id": "mb98jgmEc8vn",
    "outputId": "196780d1-049f-4495-b885-0e392c319789"
   },
   "outputs": [],
   "source": [
    "# Corrección ortográfica en español\n",
    "spell = Speller(lang='es')\n",
    "df_proc[\"texto_corr\"] = df_proc[\"texto_lower\"].apply(spell)\n",
    "df_proc[[\"texto_lower\", \"texto_corr\"]].head(10)"
   ]
  },
  {
   "cell_type": "code",
   "execution_count": null,
   "metadata": {
    "colab": {
     "base_uri": "https://localhost:8080/",
     "height": 363
    },
    "executionInfo": {
     "elapsed": 59,
     "status": "ok",
     "timestamp": 1755734156545,
     "user": {
      "displayName": "Victor Hugo Borrayo Herrera",
      "userId": "06436941793800522113"
     },
     "user_tz": 360
    },
    "id": "Qhm5G6Hrc8f5",
    "outputId": "b2814e3e-f39a-4555-b3d3-3d9cb07fd146"
   },
   "outputs": [],
   "source": [
    "#Mantener símbolos útiles\n",
    "pat = re.compile(r\"[^a-záéíóúüñ\\s]\")\n",
    "df_proc[\"texto_clean\"] = df_proc[\"texto_corr\"].str.replace(pat, \" \", regex=True).str.replace(r\"\\s+\", \" \", regex=True).str.strip()\n",
    "df_proc[\"tokens\"] = df_proc[\"texto_clean\"].str.split()\n",
    "df_proc[[\"texto_corr\", \"texto_clean\"]].head(10)"
   ]
  },
  {
   "cell_type": "markdown",
   "metadata": {
    "id": "ts4wmjtcZt5C"
   },
   "source": []
  },
  {
   "cell_type": "code",
   "execution_count": null,
   "metadata": {
    "colab": {
     "base_uri": "https://localhost:8080/",
     "height": 363
    },
    "executionInfo": {
     "elapsed": 66,
     "status": "ok",
     "timestamp": 1755734193460,
     "user": {
      "displayName": "Victor Hugo Borrayo Herrera",
      "userId": "06436941793800522113"
     },
     "user_tz": 360
    },
    "id": "ynjW86sLd5GP",
    "outputId": "0c64c69c-50ba-4861-f614-7e3f6c3ed2d7"
   },
   "outputs": [],
   "source": [
    "# Eliminando stopwords\n",
    "stop_es = set(stopwords.words('spanish'))\n",
    "df_proc[\"tokens_nostop\"] = df_proc[\"tokens\"].apply(lambda toks: [t for t in toks if t not in stop_es and len(t) > 2])\n",
    "df_proc[[\"texto_clean\", \"tokens_nostop\"]].head(10)"
   ]
  },
  {
   "cell_type": "code",
   "execution_count": null,
   "metadata": {
    "colab": {
     "base_uri": "https://localhost:8080/",
     "height": 157
    },
    "executionInfo": {
     "elapsed": 34,
     "status": "ok",
     "timestamp": 1755734222876,
     "user": {
      "displayName": "Victor Hugo Borrayo Herrera",
      "userId": "06436941793800522113"
     },
     "user_tz": 360
    },
    "id": "1tC3AF-yeTJz",
    "outputId": "ae2d4b0a-bccd-4770-8246-ff3c0279e97f"
   },
   "outputs": [],
   "source": [
    "# Creando Corpus\n",
    "corpus = \" \".join([\" \".join(toks) for toks in df_proc[\"tokens_nostop\"]])\n",
    "corpus"
   ]
  },
  {
   "cell_type": "code",
   "execution_count": null,
   "metadata": {
    "colab": {
     "base_uri": "https://localhost:8080/",
     "height": 345
    },
    "executionInfo": {
     "elapsed": 1053,
     "status": "ok",
     "timestamp": 1755734280232,
     "user": {
      "displayName": "Victor Hugo Borrayo Herrera",
      "userId": "06436941793800522113"
     },
     "user_tz": 360
    },
    "id": "rxSkQb1GeaMH",
    "outputId": "c314a83a-9768-46f1-8c72-52d6a304244f"
   },
   "outputs": [],
   "source": [
    "# Wordcloud\n",
    "from wordcloud import WordCloud\n",
    "\n",
    "wc = WordCloud(\n",
    "    width=1000,\n",
    "    height=600,\n",
    "    background_color=\"white\",\n",
    "    collocations=False\n",
    ").generate(corpus)\n",
    "\n",
    "plt.figure(figsize=(8, 4))\n",
    "plt.imshow(wc, interpolation=\"bilinear\")\n",
    "plt.axis(\"off\")\n",
    "#plt.title(\"Nube de palabras — Motivación\")\n",
    "plt.show()"
   ]
  }
 ],
 "metadata": {
  "colab": {
   "authorship_tag": "ABX9TyPh19NDKFX+khlvCAmytOia",
   "provenance": []
  },
  "kernelspec": {
   "display_name": "ds-club",
   "language": "python",
   "name": "python3"
  },
  "language_info": {
   "codemirror_mode": {
    "name": "ipython",
    "version": 3
   },
   "file_extension": ".py",
   "mimetype": "text/x-python",
   "name": "python",
   "nbconvert_exporter": "python",
   "pygments_lexer": "ipython3",
   "version": "3.10.12"
  }
 },
 "nbformat": 4,
 "nbformat_minor": 0
}
